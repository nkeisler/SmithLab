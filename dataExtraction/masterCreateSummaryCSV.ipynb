{
 "cells": [
  {
   "cell_type": "markdown",
   "metadata": {},
   "source": [
    "Create Summary CSVs\n",
    "This notebook will create .csv files that contain summaries from multiple csvs of behavioral scoring data exported from ELAN. \n",
    "#Input: Put all .csv files (i.e. generated for each video and exported using ELAN) in a single directory. The format should be column 1: behavior name, column 2: blank, column 3: start time in sec.msec, column4: end time; column 5: duration. This script assumes 30 minute videos have been scored.\n",
    "#The output will include a csv for cummulative time spent in a behavior over 5 minute bins in a 30 minute window for each unique behavior scored. It will also include a summary csv with the cumulative duration of each behavior for each video and "
   ]
  },
  {
   "cell_type": "markdown",
   "metadata": {},
   "source": [
    "Create seperate CSV with cumulative duration in 5 minute time bins over 30minute session for each behavior"
   ]
  },
  {
   "cell_type": "code",
   "execution_count": 2,
   "metadata": {},
   "outputs": [],
   "source": [
    "#import relevant packages\n",
    "import pandas as pd\n",
    "import numpy as np\n",
    "import os\n",
    "import re\n",
    "\n",
    "#Set Directory containing all CSV files\n",
    "csv_path = r\"/Volumes/avn006/behaviorScoring/202409_FoodDeprivation/female/selfgroom\"\n"
   ]
  },
  {
   "cell_type": "markdown",
   "metadata": {},
   "source": [
    "Cumulative Duration:\n",
    "Create a csv with cumulative time spent in each behavior over 5 minute bins over the 30 minute social interaction"
   ]
  },
  {
   "cell_type": "code",
   "execution_count": 4,
   "metadata": {},
   "outputs": [
    {
     "name": "stdout",
     "output_type": "stream",
     "text": [
      "Saved cumulative durations for selfgrooming to cumulative_selfgrooming_times.csv\n"
     ]
    }
   ],
   "source": [
    "# Defines a function to split behavior bouts that span across binned time intervals\n",
    "def split_behavior_duration(start_time, duration, bins):\n",
    "        split_durations = []\n",
    "        \n",
    "        end_time = start_time + duration\n",
    "        for i in range(len(bins) - 1):\n",
    "            bin_start = bins[i]\n",
    "            bin_end = bins[i + 1]\n",
    "            \n",
    "            # Check if behavior overlaps with the current bin\n",
    "            if start_time < bin_end and end_time > bin_start:\n",
    "                # Find the overlap between the behavior and the current bin\n",
    "                overlap_start = max(start_time, bin_start)\n",
    "                overlap_end = min(end_time, bin_end)\n",
    "                overlap_duration = overlap_end - overlap_start\n",
    "                \n",
    "                # Add the duration for the current bin if there is an overlap\n",
    "                if overlap_duration > 0:\n",
    "                    split_durations.append((i, overlap_duration))\n",
    "        \n",
    "        return split_durations\n",
    "\n",
    "def createCumulativeDurationscsv(directory):\n",
    "    summary_dir = os.path.join(directory, 'summary')\n",
    "    os.makedirs(summary_dir, exist_ok=True)\n",
    "\n",
    "    cumulative_data = {}\n",
    "    all_behaviors = set()\n",
    "\n",
    "    # First pass: collect all unique behaviors across all files\n",
    "    for filename in os.listdir(directory):\n",
    "        if filename.endswith(\".csv\"):\n",
    "            filepath = os.path.join(directory, filename)\n",
    "            df = pd.read_csv(filepath, header=None)\n",
    "            if not df.empty:\n",
    "                behaviors = df[0].astype(str).str.lower().str.replace(r'[^a-z]', '', regex=True)\n",
    "                all_behaviors.update(behaviors)\n",
    "\n",
    "    # Second pass: process each file\n",
    "    for filename in os.listdir(directory):\n",
    "        if filename.endswith(\".csv\"):\n",
    "            filepath = os.path.join(directory, filename)\n",
    "            df = pd.read_csv(filepath, header=None)\n",
    "            video_name = os.path.splitext(filename)[0]\n",
    "\n",
    "            bins = np.arange(0, 1800 + 300, 300)\n",
    "            bin_labels = [f'{int(b/60)}-{int(b/60 + 5)} min' for b in bins[:-1]]\n",
    "\n",
    "            # Process file if not empty\n",
    "            if not df.empty:\n",
    "                df['behavior'] = df[0].astype(str).str.lower().str.replace(r'[^a-z]', '', regex=True)\n",
    "                df['start_time'] = pd.to_numeric(df[2], errors='coerce')\n",
    "                df['duration'] = pd.to_numeric(df[4], errors='coerce')\n",
    "\n",
    "                cumulative_times = {behavior: np.zeros(len(bin_labels)) for behavior in df['behavior'].unique()}\n",
    "\n",
    "                for index, row in df.iterrows():\n",
    "                    behavior = row['behavior']\n",
    "                    start_time = row['start_time']\n",
    "                    duration = row['duration']\n",
    "                    if pd.notnull(start_time) and pd.notnull(duration):\n",
    "                        split_durations = split_behavior_duration(start_time, duration, bins)\n",
    "                        for bin_index, bin_duration in split_durations:\n",
    "                            cumulative_times[behavior][bin_index] += bin_duration\n",
    "\n",
    "                cumulative_df = pd.DataFrame(cumulative_times, index=bin_labels).T\n",
    "                cumulative_df = cumulative_df.cumsum(axis=1)\n",
    "                cumulative_df.insert(0, 'video_name', video_name)\n",
    "            else:\n",
    "                # If file is empty, create an empty DataFrame\n",
    "                cumulative_df = pd.DataFrame(columns=['video_name'] + bin_labels)\n",
    "\n",
    "            # For every behavior in all_behaviors, ensure a row exists\n",
    "            for behavior in all_behaviors:\n",
    "                if behavior in cumulative_df.index:\n",
    "                    behavior_df = cumulative_df.loc[[behavior]]\n",
    "                else:\n",
    "                    # Create a row of zeros for missing behavior\n",
    "                    row = [video_name] + [0]*len(bin_labels)\n",
    "                    behavior_df = pd.DataFrame([row], columns=['video_name'] + bin_labels)\n",
    "                if behavior not in cumulative_data:\n",
    "                    cumulative_data[behavior] = []\n",
    "                cumulative_data[behavior].append(behavior_df)\n",
    "\n",
    "    # Write one CSV per behavior, combining data across all videos\n",
    "    for behavior, data_list in cumulative_data.items():\n",
    "        behavior_df = pd.concat(data_list)\n",
    "        behavior_df = behavior_df.sort_values(by='video_name')\n",
    "        output_file = f'cumulative_{behavior}_times.csv'\n",
    "        output_path = os.path.join(summary_dir, output_file)\n",
    "        behavior_df.to_csv(output_path, index=False)\n",
    "        print(f\"Saved cumulative durations for {behavior} to {output_file}\")\n",
    "\n",
    "createCumulativeDurationscsv(csv_path)"
   ]
  },
  {
   "cell_type": "markdown",
   "metadata": {},
   "source": [
    "Total behavior duration:\n",
    "create csv with total time spent doing each behavior for each video"
   ]
  },
  {
   "cell_type": "code",
   "execution_count": 3,
   "metadata": {},
   "outputs": [
    {
     "name": "stdout",
     "output_type": "stream",
     "text": [
      "Video behavior durations saved to /Volumes/avn006/behaviorScoring/202409_FoodDeprivation/female/selfgroom/summary/behavior_durations_summary.csv\n"
     ]
    }
   ],
   "source": [
    "def createDurationscsv(directory):\n",
    "    # Create a 'summary' folder inside the input directory for the output CSV\n",
    "    summary_dir = os.path.join(directory, 'summary')\n",
    "    os.makedirs(summary_dir, exist_ok=True)\n",
    "\n",
    "    behavior_durations_per_video = {}\n",
    "\n",
    "    for filename in os.listdir(directory):\n",
    "        if filename.endswith(\".csv\"):\n",
    "            filepath = os.path.join(directory, filename)\n",
    "            df = pd.read_csv(filepath, header=None)\n",
    "\n",
    "            # Dictionary to hold total duration for each behavior in the current file\n",
    "            behavior_total_duration = {}\n",
    "\n",
    "            # Assuming the columns are: [Behavior, Unknown, Start Time, End Time, Duration]\n",
    "            for _, row in df.iterrows():\n",
    "                behavior = re.sub(r'[^a-z]', '', str(row[0]).strip().lower())\n",
    "                duration = row[4]\n",
    "\n",
    "                # Update the total duration for each behavior in the current video\n",
    "                if behavior not in behavior_total_duration:\n",
    "                    behavior_total_duration[behavior] = 0\n",
    "                behavior_total_duration[behavior] += duration\n",
    "\n",
    "            # Store the total durations for this video in the main dictionary\n",
    "            # Use the filename (without extension) as the key\n",
    "            behavior_durations_per_video[filename] = behavior_total_duration\n",
    "\n",
    "    # Create a DataFrame to hold the summary of each video and behavior durations\n",
    "    all_behaviors = set()\n",
    "    for behavior_durations in behavior_durations_per_video.values():\n",
    "        all_behaviors.update(behavior_durations.keys())\n",
    "    \n",
    "    all_behaviors = sorted(all_behaviors)  # Sort the behaviors for consistency\n",
    "\n",
    "    # Create a list of dictionaries where each dictionary contains the video and its behavior durations\n",
    "    summary_data = []\n",
    "    for video, behavior_durations in behavior_durations_per_video.items():\n",
    "        row_data = {'Video': video}\n",
    "        for behavior in all_behaviors:\n",
    "            row_data[behavior] = behavior_durations.get(behavior, 0)  # Fill with 0 if behavior not present\n",
    "        summary_data.append(row_data)\n",
    "\n",
    "    # Create the DataFrame from the summary data\n",
    "    summary_df = pd.DataFrame(summary_data)\n",
    "    summary_df=summary_df.sort_values(by='Video')\n",
    "    # Save the summary DataFrame to a CSV file inside the 'summary' folder\n",
    "    summary_csv = os.path.join(summary_dir, 'behavior_durations_summary.csv')\n",
    "    summary_df.to_csv(summary_csv, index=False)\n",
    "\n",
    "    print(f\"Video behavior durations saved to {summary_csv}\")\n",
    "\n",
    "createDurationscsv(csv_path)\n"
   ]
  },
  {
   "cell_type": "markdown",
   "metadata": {},
   "source": [
    "Latency to behavior:\n",
    "Create a CSV containing the latency for each behavior\n",
    "If behavior doesnt occur in a video, assumes 30 minute video and sets latency to 1800s (max)\n",
    "i.e. take the first start time for each behavior"
   ]
  },
  {
   "cell_type": "code",
   "execution_count": 4,
   "metadata": {},
   "outputs": [
    {
     "name": "stdout",
     "output_type": "stream",
     "text": [
      "Latency summary saved to: /Volumes/avn006/behaviorScoring/202409_FoodDeprivation/female/selfgroom/summary/behavior_latencies_summary.csv\n"
     ]
    }
   ],
   "source": [
    "def createLatenciescsv(directory):\n",
    "    summary_dir = os.path.join(directory, 'summary')\n",
    "    os.makedirs(summary_dir, exist_ok=True)\n",
    "\n",
    "    behavior_latencies_per_video = {}\n",
    "\n",
    "    all_behaviors = set()\n",
    "\n",
    "    for filename in os.listdir(directory):\n",
    "        if filename.endswith(\".csv\"):\n",
    "            filepath = os.path.join(directory, filename)\n",
    "            df = pd.read_csv(filepath, header=None)\n",
    "\n",
    "            behavior_latencies = {}\n",
    "\n",
    "            for _, row in df.iterrows():\n",
    "                behavior = re.sub(r'[^a-z]', '', str(row[0]).strip().lower())\n",
    "                start_time = pd.to_numeric(row[2], errors='coerce')\n",
    "                if pd.notnull(start_time):\n",
    "                    if behavior not in behavior_latencies:\n",
    "                        behavior_latencies[behavior] = start_time\n",
    "                    else:\n",
    "                        behavior_latencies[behavior] = min(behavior_latencies[behavior], start_time)\n",
    "                all_behaviors.add(behavior)\n",
    "\n",
    "            behavior_latencies_per_video[filename] = behavior_latencies\n",
    "\n",
    "    # Fill missing behaviors with 1800\n",
    "    for video, latencies in behavior_latencies_per_video.items():\n",
    "        for behavior in all_behaviors:\n",
    "            if behavior not in latencies:\n",
    "                latencies[behavior] = 1800\n",
    "\n",
    "    summary_path = os.path.join(summary_dir, 'behavior_latencies_summary.csv')\n",
    "    summary_df = pd.DataFrame.from_dict(behavior_latencies_per_video, orient='index').sort_index()\n",
    "    summary_df = summary_df[sorted(summary_df.columns)]  # Optional: sort columns alphabetically\n",
    "    summary_df.to_csv(summary_path)\n",
    "\n",
    "    print(f\"Latency summary saved to: {summary_path}\")\n",
    "\n",
    "createLatenciescsv(csv_path)"
   ]
  },
  {
   "cell_type": "markdown",
   "metadata": {},
   "source": [
    "Bouts of behavior\n",
    "Create a CSV containing the total # of bouts or episodes of each behavior\n",
    "Defines a bout as each episode of behavior at least 2 seconds apart (combines <2 seconds into one bout)"
   ]
  },
  {
   "cell_type": "code",
   "execution_count": 5,
   "metadata": {},
   "outputs": [
    {
     "name": "stdout",
     "output_type": "stream",
     "text": [
      "Behavior bouts summary saved to /Volumes/avn006/behaviorScoring/202409_FoodDeprivation/female/selfgroom/summary/behavior_bouts_summary.csv\n"
     ]
    }
   ],
   "source": [
    "def createBoutscsv(directory):\n",
    "    summary_dir = os.path.join(directory, 'summary')\n",
    "    os.makedirs(summary_dir, exist_ok=True)\n",
    "\n",
    "    behavior_bouts_per_video = {}\n",
    "    all_behaviors = set()\n",
    "\n",
    "    for filename in os.listdir(directory):\n",
    "        if filename.endswith(\".csv\"):\n",
    "            filepath = os.path.join(directory, filename)\n",
    "            df = pd.read_csv(filepath, header=None)\n",
    "\n",
    "             # Normalize behavior names and convert times\n",
    "            df['behavior'] = df[0].astype(str).str.lower().str.replace(r'[^a-z]', '', regex=True)\n",
    "            df['start_time'] = pd.to_numeric(df[2], errors='coerce')\n",
    "            df['end_time'] = pd.to_numeric(df[3], errors='coerce')\n",
    "\n",
    "            bout_counts = {}\n",
    "            for behavior in df['behavior'].unique():\n",
    "                behavior_df = df[df['behavior'] == behavior].sort_values(by='start_time')\n",
    "                bout_count = 1 if not behavior_df.empty else 0  # Start with 1 if any bouts exist\n",
    "\n",
    "                for i in range(len(behavior_df) - 1):\n",
    "                    r1_end = behavior_df.iloc[i]['end_time']\n",
    "                    r2_start = behavior_df.iloc[i + 1]['start_time']\n",
    "                    if r2_start - r1_end > 2:\n",
    "                        bout_count += 1\n",
    "                bout_counts[behavior] = bout_count\n",
    "                all_behaviors.add(behavior)\n",
    "\n",
    "            behavior_bouts_per_video[filename] = bout_counts\n",
    "\n",
    "    # Ensure every video has a value for every behavior (fill missing with 0)\n",
    "    summary_data = []\n",
    "    for video, bout_counts in behavior_bouts_per_video.items():\n",
    "        row_data = {'Video': video}\n",
    "        for behavior in sorted(all_behaviors):\n",
    "            row_data[behavior] = bout_counts.get(behavior, 0)\n",
    "        summary_data.append(row_data)\n",
    "\n",
    "    summary_df = pd.DataFrame(summary_data)\n",
    "    summary_df = summary_df.sort_values(by='Video')\n",
    "    summary_csv = os.path.join(summary_dir, 'behavior_bouts_summary.csv')\n",
    "    summary_df.to_csv(summary_csv, index=False)\n",
    "    print(f\"Behavior bouts summary saved to {summary_csv}\")\n",
    "\n",
    "createBoutscsv(csv_path)"
   ]
  },
  {
   "cell_type": "markdown",
   "metadata": {},
   "source": []
  }
 ],
 "metadata": {
  "kernelspec": {
   "display_name": ".venv (3.9.6)",
   "language": "python",
   "name": "python3"
  },
  "language_info": {
   "codemirror_mode": {
    "name": "ipython",
    "version": 3
   },
   "file_extension": ".py",
   "mimetype": "text/x-python",
   "name": "python",
   "nbconvert_exporter": "python",
   "pygments_lexer": "ipython3",
   "version": "3.9.6"
  }
 },
 "nbformat": 4,
 "nbformat_minor": 2
}
