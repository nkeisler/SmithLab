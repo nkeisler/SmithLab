{
 "cells": [
  {
   "cell_type": "markdown",
   "metadata": {},
   "source": [
    "This code contains modules for processing raw behavioral videos to turn them into split view (bottom and side view) final videos for video scoring and pose estimation analysis (i.e. SLEAP). \n",
    "This script is written assuming the raw video files are in the same directory as the current script. Make a copy of this into your raw videos folder. \n",
    "*Requires ffmpeg \n",
    "*Please run these modules in order for the best results!"
   ]
  },
  {
   "cell_type": "markdown",
   "metadata": {},
   "source": [
    "Activate conda environment with ffmpeg installed"
   ]
  },
  {
   "cell_type": "code",
   "execution_count": null,
   "metadata": {
    "vscode": {
     "languageId": "shellscript"
    }
   },
   "outputs": [
    {
     "name": "stdout",
     "output_type": "stream",
     "text": [
      "\n",
      "Note: you may need to restart the kernel to use updated packages.\n"
     ]
    }
   ],
   "source": [
    "#conda activate simba"
   ]
  },
  {
   "cell_type": "markdown",
   "metadata": {},
   "source": [
    "Import relevant packages"
   ]
  },
  {
   "cell_type": "code",
   "execution_count": 1,
   "metadata": {},
   "outputs": [],
   "source": [
    "import os\n",
    "import subprocess"
   ]
  },
  {
   "cell_type": "markdown",
   "metadata": {},
   "source": [
    "Convert avi to mp4 videos using GPU and output in current directory "
   ]
  },
  {
   "cell_type": "code",
   "execution_count": 5,
   "metadata": {},
   "outputs": [
    {
     "name": "stdout",
     "output_type": "stream",
     "text": [
      "Conversion complete.\n"
     ]
    }
   ],
   "source": [
    "#define path to the directory containing .avi files\n",
    "video_dir = r\"Z:\\20250711_FDMelittin_F_MA_KC\\videos\\raw\\feeding\" \n",
    "# Ensure the 'converted' directory exists or create one if it doesn't\n",
    "output_dir = os.path.join(video_dir, 'converted')\n",
    "if not os.path.exists(output_dir):\n",
    "    os.makedirs(output_dir)\n",
    "\n",
    "# Iterate over all .avi files in the specified directory\n",
    "for file in os.listdir(video_dir):\n",
    "    if file.endswith('.avi'):\n",
    "        # Construct the file name for the converted video\n",
    "        input_file = os.path.join(video_dir, file)\n",
    "        output_file = os.path.join(output_dir, os.path.splitext(file)[0] + '.mp4')\n",
    "\n",
    "        # Construct the ffmpeg command with NVENC\n",
    "        convert = [\n",
    "            'ffmpeg', '-i', input_file, '-c:v', 'h264_nvenc', '-pix_fmt', 'yuv420p',\n",
    "            '-preset', 'medium', '-crf', '23', output_file\n",
    "        ]\n",
    "\n",
    "        # Execute the command\n",
    "        subprocess.run(convert)\n",
    "\n",
    "print(\"Conversion complete.\")"
   ]
  },
  {
   "cell_type": "markdown",
   "metadata": {},
   "source": [
    "Match video durations between bottom and side view videos if frame rate was optimized for exposure\n",
    "*you will need to run this for each side view video"
   ]
  },
  {
   "cell_type": "code",
   "execution_count": null,
   "metadata": {},
   "outputs": [],
   "source": [
    "# Step 1: Get the duration of the side view video\n",
    "side_view_video = r\"Y:\\2025-02_FoodDep_Amanda\\videos\\raw\\converted\\20250130postCAP_front_rotated.mp4\"\n",
    "bottom_view_video = r\"Y:\\2025-02_FoodDep_Amanda\\videos\\raw\\converted\\20250130postCAP_left.mp4\"\n",
    "output_video = r\"Y:\\2025-02_FoodDep_Amanda\\videos\\raw\\converted\\20250130postCAP_front_rotated_adjusted.mp4\"\n",
    "\n",
    "\n",
    "side_view_duration_cmd = [\n",
    "    \"ffprobe\",\n",
    "    \"-v\", \"error\",\n",
    "    \"-show_entries\", \"format=duration\",\n",
    "    \"-of\", \"default=noprint_wrappers=1:nokey=1\",\n",
    "    side_view_video\n",
    "]\n",
    "side_view_duration = float(subprocess.run(side_view_duration_cmd, stdout=subprocess.PIPE, universal_newlines=True).stdout.strip())\n",
    "\n",
    "# Step 2: Get the duration of the bottom view video\n",
    "bottom_view_duration_cmd = [\n",
    "    \"ffprobe\",\n",
    "    \"-v\", \"error\",\n",
    "    \"-show_entries\", \"format=duration\",\n",
    "    \"-of\", \"default=noprint_wrappers=1:nokey=1\",\n",
    "    bottom_view_video\n",
    "]\n",
    "bottom_view_duration = float(subprocess.run(bottom_view_duration_cmd, stdout=subprocess.PIPE, universal_newlines=True).stdout.strip())\n",
    "\n",
    "# Step 3: Calculate the duration ratio\n",
    "duration_ratio = bottom_view_duration / side_view_duration\n",
    "\n",
    "# Step 4: Adjust the side view video duration using ffmpeg\n",
    "ffmpeg_cmd = [\n",
    "    \"ffmpeg\",\n",
    "    \"-i\", side_view_video,\n",
    "    \"-filter_complex\", f\"[0:v]setpts=PTS*{duration_ratio}[v]\",\n",
    "    \"-map\", \"[v]\",\n",
    "    output_video\n",
    "]\n",
    "\n",
    "subprocess.run(ffmpeg_cmd)"
   ]
  },
  {
   "cell_type": "markdown",
   "metadata": {},
   "source": [
    "Scale video\n",
    "*use this if your bottom view and side view videos are not the same resolution; having the same resolution is required for concatenation and will minimize distortions when you create a split view of both videos"
   ]
  },
  {
   "cell_type": "code",
   "execution_count": null,
   "metadata": {},
   "outputs": [],
   "source": [
    "file = r\"C:\\Users\\LabAdmin\\data_server\\2025-01_FoodDepM_Amanda\\videos\\raw\\20250109_220-2_FoodDepM_AN\\converted\\postCAP_right_adjusted.mp4\"\n",
    "output_file = r\"C:\\Users\\LabAdmin\\data_server\\2025-01_FoodDepM_Amanda\\videos\\raw\\20250109_220-2_FoodDepM_AN\\converted\\postCAP_right_adjusted_scaled.mp4\"\n",
    "scale_command= ['ffmpeg', '-i', file, '-s', '1920x1080', output_file]\n",
    "\n",
    "# Execute the command\n",
    "subprocess.run(scale_command)"
   ]
  },
  {
   "cell_type": "markdown",
   "metadata": {},
   "source": [
    "Rotate video\n",
    "*use this if the camera was tilted"
   ]
  },
  {
   "cell_type": "code",
   "execution_count": null,
   "metadata": {},
   "outputs": [],
   "source": [
    "ffmpeg -hwaccel cuda -i \"Y:\\2025-02_FoodDep_Amanda\\videos\\raw\\20250130postCAP_front.avi\" -vf \"rotate=-10*(PI/180)\" -c:v h264_nvenc -preset p7 -qp 0 -c:a copy \"Y:\\2025-02_FoodDep_Amanda\\videos\\raw\\20250130postCAP_front_rotated.avi\""
   ]
  },
  {
   "cell_type": "markdown",
   "metadata": {},
   "source": [
    "Concatenate videos \n",
    "*run this if your experiment was recorded over two different video files"
   ]
  },
  {
   "cell_type": "code",
   "execution_count": null,
   "metadata": {},
   "outputs": [],
   "source": [
    "def concatenate_videos(video_files):\n",
    "    if not video_files:\n",
    "        print(\"Error: No video files provided.\")\n",
    "        return\n",
    "    \n",
    "    # Extract directory and filename of the first input file\n",
    "    first_file = video_files[0]\n",
    "    first_name, ext = os.path.splitext(os.path.basename(first_file))\n",
    "    output_file = os.path.join(os.path.dirname(first_file), f\"{first_name}_concat{ext}\")\n",
    "\n",
    "    # Create a temporary file list\n",
    "    file_list = os.path.join(os.path.dirname(first_file), \"file_list.txt\")\n",
    "\n",
    "    with open(file_list, \"w\") as f:\n",
    "        for video in video_files:\n",
    "            f.write(f\"file '{video}'\\n\")\n",
    "\n",
    "    # Run FFmpeg command\n",
    "    command = [\"ffmpeg\", \"-f\", \"concat\", \"-safe\", \"0\", \"-i\", file_list, \"-c\", \"copy\", output_file]\n",
    "\n",
    "    try:\n",
    "        subprocess.run(command, check=True)\n",
    "        print(f\"Concatenation successful! Output saved as {output_file}\")\n",
    "    except subprocess.CalledProcessError as e:\n",
    "        print(f\"Error during concatenation: {e}\")\n",
    "    \n",
    "    # Clean up temporary file list\n",
    "    os.remove(file_list)\n",
    "video_files = [r\"Z:\\whiteplaceholder.mp4\", r\"Y:\\2025-01_FoodDepM_Amanda\\videos\\raw\\20250109_220-2_FoodDepM_AN\\converted\\temp\\postCAP_left2_adjusted.mp4\"]\n",
    "concatenate_videos(video_files) #first raw string input is the first video, second is the second video i.e. the video to concatenate to the end of the first input\n"
   ]
  },
  {
   "cell_type": "markdown",
   "metadata": {},
   "source": [
    "Your videos are now ready to be cropped and trimmed using simba\n",
    "*create seperate folders to store your bottomView and sideView videos for the next step"
   ]
  },
  {
   "cell_type": "markdown",
   "metadata": {},
   "source": [
    "Create split view video\n",
    "*After cropping and trimming videos to the same length, you can now create a split view video with bottom view on the left and side view on the left\n",
    "*This script pairs the videos based on the index of the videos in your side view and bottom view folders after sorting by alphabetical and numerical order"
   ]
  },
  {
   "cell_type": "code",
   "execution_count": null,
   "metadata": {},
   "outputs": [],
   "source": [
    "# Define the paths to the folders\n",
    "bottom_view_folder = r\"Z:\\20250711_FDMelittin_F_MA_KC\\videos\\final\\postPain\\bottomView\\temp\"\n",
    "side_view_folder = r\"Z:\\20250711_FDMelittin_F_MA_KC\\videos\\final\\postPain\\sideView\\temp\"\n",
    "output_folder = r\"Z:\\20250711_FDMelittin_F_MA_KC\\videos\\final\\postPain\"\n",
    "\n",
    "# Create output folder if it doesn't exist\n",
    "os.makedirs(output_folder, exist_ok=True)\n",
    "\n",
    "# List all files in the bottomView and sideView folders\n",
    "bottom_videos = sorted([f for f in os.listdir(bottom_view_folder) if f.endswith('.mp4')])\n",
    "side_videos = sorted([f for f in os.listdir(side_view_folder) if f.endswith('.mp4')])\n",
    "\n",
    "# Pair the videos based on the filenames\n",
    "for bottom_video, side_video in zip(bottom_videos, side_videos):\n",
    "    bottom_video_path = os.path.join(bottom_view_folder, bottom_video)\n",
    "    side_video_path = os.path.join(side_view_folder, side_video)\n",
    "    output_video_name = bottom_video.replace('_bottom', '_combined')\n",
    "    output_video_path = os.path.join(output_folder, output_video_name)\n",
    "    \n",
    "    subprocess.run([\n",
    "        'ffmpeg', '-i', bottom_video_path, '-i', side_video_path,\n",
    "        #'-t', '600',  # Trim to the first 10 minutes (600 seconds)\n",
    "        '-filter_complex', '[1:v][0:v]scale2ref[1v][0v];[0v][1v]hstack', #compose bottom view (l) and side view (R) side by side, resize side view video to dimensions of bottom view\n",
    "        '-c:v', 'h264_nvenc', output_video_path\n",
    "    ])"
   ]
  }
 ],
 "metadata": {
  "kernelspec": {
   "display_name": "simba",
   "language": "python",
   "name": "python3"
  },
  "language_info": {
   "codemirror_mode": {
    "name": "ipython",
    "version": 3
   },
   "file_extension": ".py",
   "mimetype": "text/x-python",
   "name": "python",
   "nbconvert_exporter": "python",
   "pygments_lexer": "ipython3",
   "version": "3.6.3"
  }
 },
 "nbformat": 4,
 "nbformat_minor": 2
}
